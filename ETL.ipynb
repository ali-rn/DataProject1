{
  "nbformat": 4,
  "nbformat_minor": 0,
  "metadata": {
    "colab": {
      "provenance": [],
      "include_colab_link": true
    },
    "kernelspec": {
      "name": "python3",
      "display_name": "Python 3"
    },
    "language_info": {
      "name": "python"
    }
  },
  "cells": [
    {
      "cell_type": "markdown",
      "metadata": {
        "id": "view-in-github",
        "colab_type": "text"
      },
      "source": [
        "<a href=\"https://colab.research.google.com/github/ali-rn/DataProject1/blob/main/ETL.ipynb\" target=\"_parent\"><img src=\"https://colab.research.google.com/assets/colab-badge.svg\" alt=\"Open In Colab\"/></a>"
      ]
    },
    {
      "cell_type": "markdown",
      "source": [
        "# **Part 1: CSV**"
      ],
      "metadata": {
        "id": "QpkQ-ZJvThWH"
      }
    },
    {
      "cell_type": "code",
      "source": [
        "# ETL Pipeline\n",
        "\n",
        "# fetch csv file\n",
        "path = '/content/drive/MyDrive/Fall 2024/TOP 100 IMDB MOVIES.csv'\n",
        "\n",
        "# csv to dataframe\n",
        "import pandas as pd\n",
        "df = pd.read_csv(path, index_col=0)\n",
        "\n",
        "# generate summary of data file ingestion\n",
        "print('Raw IMDb Rankings')\n",
        "print('Records: ', len(df))\n",
        "print('Columns: ', len(df.columns))\n",
        "print('\\nStat Summary:', df.describe())\n",
        "\n",
        "# simplify: take out description and genre\n",
        "df = df.drop(columns=['description', 'genre'])\n",
        "\n",
        "# sort by rank\n",
        "df = df.sort_values(by=['rank'])\n",
        "\n",
        "# capitalize first letter of column labels\n",
        "df.columns = df.columns.str.capitalize()\n",
        "\n",
        "# generate summary of postprocessed data\n",
        "print('\\n\\nPost-Processed IMDb Rankings')\n",
        "print('Records: ', len(df))\n",
        "print('Columns: ', len(df.columns))\n",
        "print('\\nStat Summary:', df.describe())"
      ],
      "metadata": {
        "id": "rtD-NdHBTc0h",
        "outputId": "2e88a9b6-aa16-42c5-829c-881ab6f5781d",
        "colab": {
          "base_uri": "https://localhost:8080/"
        }
      },
      "execution_count": 3,
      "outputs": [
        {
          "output_type": "stream",
          "name": "stdout",
          "text": [
            "Raw IMDb Rankings\n",
            "Records:  100\n",
            "Columns:  5\n",
            "\n",
            "Stat Summary:           rating         year\n",
            "count  100.00000   100.000000\n",
            "mean     8.52200  1988.070000\n",
            "std      0.20869    23.069178\n",
            "min      8.30000  1931.000000\n",
            "25%      8.40000  1974.750000\n",
            "50%      8.50000  1994.000000\n",
            "75%      8.60000  2003.250000\n",
            "max      9.30000  2023.000000\n",
            "\n",
            "\n",
            "Post-Processed IMDb Rankings\n",
            "Records:  100\n",
            "Columns:  3\n",
            "\n",
            "Stat Summary:           Rating         Year\n",
            "count  100.00000   100.000000\n",
            "mean     8.52200  1988.070000\n",
            "std      0.20869    23.069178\n",
            "min      8.30000  1931.000000\n",
            "25%      8.40000  1974.750000\n",
            "50%      8.50000  1994.000000\n",
            "75%      8.60000  2003.250000\n",
            "max      9.30000  2023.000000\n"
          ]
        }
      ]
    },
    {
      "cell_type": "code",
      "source": [
        "# give user the option to store dataframe as either JSON or SQL\n",
        "import json\n",
        "import requests\n",
        "from sqlalchemy import create_engine\n",
        "\n",
        "file_type = input('Do you want to save data as a \"json\" or \"sql\"? (type one): ')\n",
        "\n",
        "if file_type == \"json\":\n",
        "  # convert dataframe to JSON\n",
        "  df.to_json('imdb_rankings.json')\n",
        "\n",
        "  # save locally\n",
        "  with open('/content/drive/MyDrive/Fall 2024/imdb_rankings.json', 'w') as f:\n",
        "    json.dump(df.to_dict('records'), f)\n",
        "\n",
        "  print('saved locally to JSON file')\n",
        "\n",
        "elif file_type == \"sql\":\n",
        "  # convert dataframe to SQL\n",
        "  engine = create_engine('sqlite:///imdb_rankings.db')\n",
        "  df.to_sql('imdb_rankings', engine, if_exists='replace', index=False)\n",
        "\n",
        "  print('saved to SQL database')\n",
        "\n",
        "else:\n",
        "  print('Invalid input')"
      ],
      "metadata": {
        "id": "iTJz6wHtTdlR",
        "outputId": "6428e80d-5ef1-42db-b507-9e8ab7d117ae",
        "colab": {
          "base_uri": "https://localhost:8080/"
        }
      },
      "execution_count": 4,
      "outputs": [
        {
          "output_type": "stream",
          "name": "stdout",
          "text": [
            "Do you want to save data as a \"json\" or \"sql\"? (type one): json\n",
            "saved locally to JSON file\n"
          ]
        }
      ]
    },
    {
      "cell_type": "markdown",
      "source": [
        "# **Part 2: JSON**"
      ],
      "metadata": {
        "id": "sJrlZoNFTqgE"
      }
    },
    {
      "cell_type": "code",
      "source": [
        "!pip install pandas requests sqlalchemy"
      ],
      "metadata": {
        "id": "72XVwGEhb8Sp"
      },
      "execution_count": null,
      "outputs": []
    },
    {
      "cell_type": "code",
      "execution_count": null,
      "metadata": {
        "id": "Z_-4MxV_brwl"
      },
      "outputs": [],
      "source": [
        "import pandas as pd\n",
        "from sqlalchemy import create_engine\n",
        "import json\n",
        "import matplotlib.pyplot as plt"
      ]
    },
    {
      "cell_type": "code",
      "source": [
        "with open('recipes.json') as f:\n",
        "    data = json.load(f)\n",
        "\n",
        "df = pd.DataFrame(data)\n",
        "\n",
        "# Convert Ingredients and Instructions to strings for SQL storage\n",
        "df['Ingredients'] = df['Ingredients'].apply(lambda x: json.dumps(x))\n",
        "df['Instructions'] = df['Instructions'].astype(str)\n",
        "\n",
        "# Fill in blank data with empty strings\n",
        "df.fillna('', inplace=True)\n",
        "\n",
        "# Check data summary before proceeding\n",
        "print('Data Summary before Processing')\n",
        "print(df.head())"
      ],
      "metadata": {
        "id": "CTp8tWMYbbMw",
        "outputId": "cd7fe34a-9984-4242-b1cd-221c9c2ed2cd",
        "colab": {
          "base_uri": "https://localhost:8080/"
        }
      },
      "execution_count": null,
      "outputs": [
        {
          "output_type": "stream",
          "name": "stdout",
          "text": [
            "Data Summary before Processing\n",
            "                                                 Url  \\\n",
            "0   https://www.chefkoch.de/rezepte/185441079701305/   \n",
            "1  https://www.chefkoch.de/rezepte/2718181424631245/   \n",
            "2    https://www.chefkoch.de/rezepte/46341015661368/   \n",
            "3    https://www.chefkoch.de/rezepte/51051018014178/   \n",
            "4  https://www.chefkoch.de/rezepte/1555771262860408/   \n",
            "\n",
            "                                        Instructions  \\\n",
            "0  Die Eier hart kochen. Dann pellen und mit eine...   \n",
            "1  Vorab folgende Bemerkung: Alle Mengen sind Cir...   \n",
            "2  Die Kirschen abtropfen lassen, dabei den Saft ...   \n",
            "3  Den Spargel säubern, die holzigen Enden abschn...   \n",
            "4  Kohlrabi schälen und klein würfeln. Mit der Br...   \n",
            "\n",
            "                                         Ingredients  Day  \\\n",
            "0  [\"600 g Hackfleisch, halb und halb\", \"800 g Sa...    1   \n",
            "1  [\"1 kg Strauchtomate(n)\", \"1 Gem\\u00fcsezwiebe...    1   \n",
            "2  [\"1 Glas Kirsche(n)\", \"1 Pck. Vanillepuddingpu...    1   \n",
            "3  [\"500 g Spargel, gr\\u00fcner\", \"300 ml Br\\u00f...    1   \n",
            "4  [\"250 g Kohlrabi\", \"150 ml Gem\\u00fcsebr\\u00fc...    1   \n",
            "\n",
            "                                    Name  Year    Month   Weekday  \n",
            "0                 Gebratener Hasenrücken  2009  January  Thursday  \n",
            "1                        Pilz Stroganoff  2017     July  Saturday  \n",
            "2                   Kaninchen a la Gioff  2007  January    Monday  \n",
            "3         Spanisches Knoblauch-Kaninchen  2013    April    Monday  \n",
            "4  Gnocchi - Hack - Pfanne mit Basilikum  2017   August   Tuesday  \n"
          ]
        }
      ]
    },
    {
      "cell_type": "code",
      "source": [
        "# Option to store as CSV or in SQL\n",
        "file_type = input('Do you want to save the data as \"csv\" or \"sql\"? (type one): ').lower()\n",
        "if file_type == \"csv\":\n",
        "  # Conversion to CSV file\n",
        "  df.to_csv('recipes.csv', index=False)\n",
        "  print(\"Data has been saved as 'recipes.csv'\")\n",
        "\n",
        "elif file_type == \"sql\":\n",
        "  # Set up SQLite connection\n",
        "  engine = create_engine('sqlite:///mydatabase.db')\n",
        "\n",
        "  # Save the DataFrame to an SQLite table\n",
        "  df.to_sql('recipes', engine, if_exists='replace', index=False)\n",
        "  print(\"Data has been saved in the SQLite database 'mydatabase.db' under the table 'recipes'\")\n",
        "\n",
        "else:\n",
        "    print(\"Invalid input. Please type either 'csv' or 'sql'.\")"
      ],
      "metadata": {
        "id": "_I4KdmfQjNsY",
        "outputId": "df0d85fc-a35f-46e6-dfc4-e15d5ea03973",
        "colab": {
          "base_uri": "https://localhost:8080/"
        }
      },
      "execution_count": null,
      "outputs": [
        {
          "output_type": "stream",
          "name": "stdout",
          "text": [
            "Do you want to save the data as \"csv\" or \"sql\"? (type one): sql\n",
            "Data has been saved in the SQLite database 'mydatabase.db' under the table 'recipes'\n"
          ]
        }
      ]
    },
    {
      "cell_type": "code",
      "source": [
        "# Transformed Data\n",
        "# Example based on number of ingredients (you can adjust the thresholds)\n",
        "df['number_ingredients'] = df['Ingredients'].apply(lambda x: len(json.loads(x)))\n",
        "df['complexity'] = df['number_ingredients'].apply(lambda x: 'Simple' if x < 5 else 'Complex')\n",
        "\n",
        "df.drop(columns=['Day', 'Weekday'], inplace=True)\n",
        "\n",
        "if file_type == 'csv':\n",
        "  df.to_csv('transformed_recipes.csv', index=False)\n",
        "  print(\"Transformed data has been saved as 'transformed_recipes.csv'\")\n",
        "elif file_type == 'sql':\n",
        "  df.to_sql('transformed_recipes', engine, if_exists='replace', index=False)\n",
        "  print(\"Transformed data has been saved in the SQLite database 'mydatabase.db' under the table 'transformed_recipes'\")\n",
        "\n",
        "print('Transformed Data Summary')\n",
        "print(df.head())\n",
        "\n",
        "df['number_ingredients'].plot(kind='hist', bins=20)\n",
        "plt.title('Distribution of Number of Ingredients')\n",
        "plt.xlabel('Number of Ingredients')\n",
        "plt.ylabel('Frequency')\n",
        "plt.show()"
      ],
      "metadata": {
        "id": "SxrU7vntcE5P",
        "outputId": "9f3de6a0-a76c-4754-b826-5d37086b31f3",
        "colab": {
          "base_uri": "https://localhost:8080/",
          "height": 1000
        }
      },
      "execution_count": null,
      "outputs": [
        {
          "output_type": "stream",
          "name": "stdout",
          "text": [
            "Transformed data has been saved in the SQLite database 'mydatabase.db' under the table 'transformed_recipes'\n",
            "Transformed Data Summary\n",
            "                                                 Url  \\\n",
            "0   https://www.chefkoch.de/rezepte/185441079701305/   \n",
            "1  https://www.chefkoch.de/rezepte/2718181424631245/   \n",
            "2    https://www.chefkoch.de/rezepte/46341015661368/   \n",
            "3    https://www.chefkoch.de/rezepte/51051018014178/   \n",
            "4  https://www.chefkoch.de/rezepte/1555771262860408/   \n",
            "\n",
            "                                        Instructions  \\\n",
            "0  Die Eier hart kochen. Dann pellen und mit eine...   \n",
            "1  Vorab folgende Bemerkung: Alle Mengen sind Cir...   \n",
            "2  Die Kirschen abtropfen lassen, dabei den Saft ...   \n",
            "3  Den Spargel säubern, die holzigen Enden abschn...   \n",
            "4  Kohlrabi schälen und klein würfeln. Mit der Br...   \n",
            "\n",
            "                                         Ingredients  \\\n",
            "0  [\"600 g Hackfleisch, halb und halb\", \"800 g Sa...   \n",
            "1  [\"1 kg Strauchtomate(n)\", \"1 Gem\\u00fcsezwiebe...   \n",
            "2  [\"1 Glas Kirsche(n)\", \"1 Pck. Vanillepuddingpu...   \n",
            "3  [\"500 g Spargel, gr\\u00fcner\", \"300 ml Br\\u00f...   \n",
            "4  [\"250 g Kohlrabi\", \"150 ml Gem\\u00fcsebr\\u00fc...   \n",
            "\n",
            "                                    Name  Year    Month  number_ingredients  \\\n",
            "0                 Gebratener Hasenrücken  2009  January                  15   \n",
            "1                        Pilz Stroganoff  2017     July                  12   \n",
            "2                   Kaninchen a la Gioff  2007  January                   9   \n",
            "3         Spanisches Knoblauch-Kaninchen  2013    April                   9   \n",
            "4  Gnocchi - Hack - Pfanne mit Basilikum  2017   August                   9   \n",
            "\n",
            "  complexity  \n",
            "0    Complex  \n",
            "1    Complex  \n",
            "2    Complex  \n",
            "3    Complex  \n",
            "4    Complex  \n"
          ]
        },
        {
          "output_type": "display_data",
          "data": {
            "text/plain": [
              "<Figure size 640x480 with 1 Axes>"
            ],
            "image/png": "[encoded data removed]"
          },
          "metadata": {}
        }
      ]
    }
  ]
}