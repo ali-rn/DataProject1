{
  "nbformat": 4,
  "nbformat_minor": 0,
  "metadata": {
    "colab": {
      "provenance": [],
      "include_colab_link": true
    },
    "kernelspec": {
      "name": "python3",
      "display_name": "Python 3"
    },
    "language_info": {
      "name": "python"
    }
  },
  "cells": [
    {
      "cell_type": "markdown",
      "metadata": {
        "id": "view-in-github",
        "colab_type": "text"
      },
      "source": [
        "<a href=\"https://colab.research.google.com/github/ali-rn/DataProject1/blob/main/ETL.ipynb\" target=\"_parent\"><img src=\"https://colab.research.google.com/assets/colab-badge.svg\" alt=\"Open In Colab\"/></a>"
      ]
    },
    {
      "cell_type": "markdown",
      "source": [
        "# **Part 1: CSV**"
      ],
      "metadata": {
        "id": "QpkQ-ZJvThWH"
      }
    },
    {
      "cell_type": "code",
      "source": [
        "# ETL Pipeline\n",
        "\n",
        "# fetch csv file\n",
        "path = '/content/drive/MyDrive/Fall 2024/TOP 100 IMDB MOVIES.csv'\n",
        "\n",
        "# csv to dataframe\n",
        "import pandas as pd\n",
        "df = pd.read_csv(path, index_col=0)\n",
        "\n",
        "# generate summary of data file ingestion\n",
        "print('Raw IMDb Rankings')\n",
        "print('Records: ', len(df))\n",
        "print('Columns: ', len(df.columns))\n",
        "print('\\nStat Summary:', df.describe())\n",
        "\n",
        "# simplify: take out description and genre\n",
        "df = df.drop(columns=['description', 'genre'])\n",
        "\n",
        "# sort by rank\n",
        "df = df.sort_values(by=['rank'])\n",
        "\n",
        "# capitalize first letter of column labels\n",
        "df.columns = df.columns.str.capitalize()\n",
        "\n",
        "# generate summary of postprocessed data\n",
        "print('\\n\\nPost-Processed IMDb Rankings')\n",
        "print('Records: ', len(df))\n",
        "print('Columns: ', len(df.columns))\n",
        "print('\\nStat Summary:', df.describe())"
      ],
      "metadata": {
        "id": "rtD-NdHBTc0h"
      },
      "execution_count": null,
      "outputs": []
    },
    {
      "cell_type": "code",
      "source": [
        "# give user the option to store dataframe as either JSON or SQL\n",
        "import json\n",
        "import requests\n",
        "from sqlalchemy import create_engine\n",
        "\n",
        "file_type = input('Do you want to save data as a \"json\" or \"sql\"? (type one): ')\n",
        "\n",
        "if file_type == \"json\":\n",
        "  # convert dataframe to JSON\n",
        "  df.to_json('imdb_rankings.json')\n",
        "\n",
        "  # save locally\n",
        "  with open('/content/drive/MyDrive/Fall 2024/imdb_rankings.json', 'w') as f:\n",
        "    json.dump(df.to_dict('records'), f)\n",
        "\n",
        "  print('saved locally to JSON file')\n",
        "\n",
        "elif file_type == \"sql\":\n",
        "  # convert dataframe to SQL\n",
        "  engine = create_engine('sqlite:///imdb_rankings.db')\n",
        "  df.to_sql('imdb_rankings', engine, if_exists='replace', index=False)\n",
        "\n",
        "  print('saved to SQL database')\n",
        "\n",
        "else:\n",
        "  print('Invalid input')"
      ],
      "metadata": {
        "id": "iTJz6wHtTdlR"
      },
      "execution_count": null,
      "outputs": []
    },
    {
      "cell_type": "markdown",
      "source": [
        "# **Part 2: JSON**"
      ],
      "metadata": {
        "id": "sJrlZoNFTqgE"
      }
    },
    {
      "cell_type": "code",
      "source": [
        "!pip install pandas requests sqlalchemy"
      ],
      "metadata": {
        "id": "72XVwGEhb8Sp"
      },
      "execution_count": null,
      "outputs": []
    },
    {
      "cell_type": "code",
      "execution_count": null,
      "metadata": {
        "id": "Z_-4MxV_brwl"
      },
      "outputs": [],
      "source": [
        "import pandas as pd\n",
        "from sqlalchemy import create_engine\n",
        "import json"
      ]
    },
    {
      "cell_type": "code",
      "source": [
        "with open('config.json') as f:\n",
        "    data = json.load(f)"
      ],
      "metadata": {
        "id": "32Q7bQitAilF"
      },
      "execution_count": null,
      "outputs": []
    }
  ]
}